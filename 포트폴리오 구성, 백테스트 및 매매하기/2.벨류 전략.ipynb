{
 "cells": [
  {
   "cell_type": "markdown",
   "id": "c6553ade-248b-4adf-910f-5542078015d9",
   "metadata": {},
   "source": [
    "## 벨류 전략"
   ]
  },
  {
   "cell_type": "markdown",
   "id": "b969ba66-9c0e-46ba-9b62-ce8addae7851",
   "metadata": {},
   "source": [
    "가치주 효과란 내재 가치 대비 낮은 가격의 주식(저PER, 저PBR 등)이, 내재 가치 대비 비싼 주식(고PER, 고PBR)보다 수익률이 높은 현상을 뜻한다."
   ]
  },
  {
   "cell_type": "markdown",
   "id": "3800c568-d996-45b7-8d55-e5a78aa41c03",
   "metadata": {},
   "source": [
    "### 벨류 포트폴리오 구하기"
   ]
  },
  {
   "cell_type": "markdown",
   "id": "b4f8f36e-dd8e-46e8-99a8-a9efd77370dd",
   "metadata": {},
   "source": [
    "국내 종목들 중 가치주에는 어떠한 것이 있는지 확인해본다. 국내 기업 중 전통적인 가치지표인 PER과 PBR이 낮은 종목을 선정한다."
   ]
  },
  {
   "cell_type": "code",
   "execution_count": null,
   "id": "b07ef2ef-7dec-44c1-98db-557983fc27d2",
   "metadata": {},
   "outputs": [],
   "source": []
  }
 ],
 "metadata": {
  "kernelspec": {
   "display_name": "Python 3 (ipykernel)",
   "language": "python",
   "name": "python3"
  },
  "language_info": {
   "codemirror_mode": {
    "name": "ipython",
    "version": 3
   },
   "file_extension": ".py",
   "mimetype": "text/x-python",
   "name": "python",
   "nbconvert_exporter": "python",
   "pygments_lexer": "ipython3",
   "version": "3.11.5"
  }
 },
 "nbformat": 4,
 "nbformat_minor": 5
}
