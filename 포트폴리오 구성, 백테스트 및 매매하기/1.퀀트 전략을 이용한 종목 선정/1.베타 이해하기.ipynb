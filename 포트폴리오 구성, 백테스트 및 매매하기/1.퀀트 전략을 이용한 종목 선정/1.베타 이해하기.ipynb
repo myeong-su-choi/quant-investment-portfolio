{
 "cells": [
  {
   "cell_type": "markdown",
   "id": "22d2c43e-80bd-4d77-9188-60d21f1221cc",
   "metadata": {},
   "source": [
    "## 퀀트 전략을 이용한 종목선정"
   ]
  },
  {
   "cell_type": "markdown",
   "id": "b458e2b8-e663-4705-aa69-2963b6039759",
   "metadata": {},
   "source": [
    "퀀트 투자는 크게 포트폴리오 운용 전략과 트레이딩 전략으로 나눌 수 있다. 포트폴리오 운용 전략은 과거 주식 시장을 분석해 좋은 주식의 기준을 찾아낸 후 해당 기준에 만족하는 종목을 매수하거나, 이와 반대에 있는 나쁜 주식을 공매도하기도 한다.  \n",
    "반면 트레이딩 전략은 주식이 오르거나 내리는 움직임을 연구한 후 각종 지표를 이용해 매수 혹은 매도하는 전략이다."
   ]
  },
  {
   "cell_type": "markdown",
   "id": "1a987265-4390-4c0a-b596-d83e4c0f79f3",
   "metadata": {},
   "source": [
    "> 공매도란?  \n",
    "공매도란 주식을 보유하고 있지 않은 상태에서 주식을 먼저 팔고, 나중에 주식을 사서 갚는 방식이다. 주가가 하락할 것이라고 예상하여 증권사로부터 주식을 빌려 현재 가격에 팔고 나중에 주가가 떨어졌을 때 더 낮은 가격에 사서 갚아 차익을 남길 수 있는 방법이다."
   ]
  },
  {
   "cell_type": "markdown",
   "id": "347b6980-e630-4440-8356-ed7fe0172f4b",
   "metadata": {},
   "source": [
    "## 팩터 이해하기"
   ]
  },
  {
   "cell_type": "markdown",
   "id": "31b2a6e8-24de-45ab-8d00-7a48a81175cf",
   "metadata": {},
   "source": [
    "주식의 수익률에 영향을 미치는 특성들을 '팩터(Factor)'라고 한다."
   ]
  },
  {
   "cell_type": "markdown",
   "id": "333065f6-9f39-4e94-9084-e9aa1fbfb5e7",
   "metadata": {},
   "source": [
    "## 베타 이해하기"
   ]
  },
  {
   "cell_type": "markdown",
   "id": "902b38a8-6ea0-4ef7-b08b-47d35ef2298e",
   "metadata": {},
   "source": [
    "전체 주식시장의 움직임은 개별 주식의 수익률에 가장 크게 영향을 주는 팩터일 수 밖에 없다. 아무리 좋은 주식도 주식시장이 폭락한다면 같이 떨어지며, 아무리 나쁜 주식도 주식시장이 상승한다면 대부분 같이 오르기 마련이다."
   ]
  },
  {
   "cell_type": "markdown",
   "id": "2043b54a-87e4-4022-83d6-3b44fed5b002",
   "metadata": {},
   "source": [
    "개별 주식이 전체 주식시장의 변동에 반응하는 정도를 나타낸 값이 베타다. 베타가 1이라는 뜻은 주식시장과 움직임이 정확히 같다는 뜻으로서 시장 그 자체를 나타낸다. 베타가 1.5라는 뜻은 주식시장이 수익률이 +1%일 때 개별 주식의 수익률은 +1.5% 움직이며, 반대로 주식시장의 수익률이 -1%일 때 개별 주식의 수익률은 -1.5% 움직인다는 뜻이다. 반면 베타가 0.5라면 주식시장 수익률의 절반 정도만 움직인다."
   ]
  },
  {
   "cell_type": "markdown",
   "id": "7db4e118-8272-464a-a230-22f99a31ebbf",
   "metadata": {},
   "source": [
    "일반적으로 상승장이 기대될 때는 베타가 큰 주식에, 하락장이 기대될 때는 베타가 낮은 주식에 투자하는 것이 좋다."
   ]
  },
  {
   "cell_type": "markdown",
   "id": "350b58ea-ea36-4f64-acbf-6f667997b597",
   "metadata": {},
   "source": [
    "#### 자산가격결정모형(CAMP: Capital Asset Pricing Model)"
   ]
  },
  {
   "cell_type": "markdown",
   "id": "367e2d52-2417-4180-a9bd-47f882b397fb",
   "metadata": {},
   "source": [
    "$$ R_i = R_f + \\beta_i \\times [R_m - R_f] $$"
   ]
  },
  {
   "cell_type": "markdown",
   "id": "16172b94-de9f-48f0-9b98-fd0a2c08e4bf",
   "metadata": {},
   "source": [
    "| 구분 | 회귀분석모형 | 자산가격결정모형 | \n",
    "| --- | --- | --- |\n",
    "| 상수항 | $a$ | $R_f$ (무위험수익률) |\n",
    "| 독립변수 | $x$ | $R_m - R_f$ (시장위험 프리미엄) |\n",
    "| 종속변수 | $y$ | $R_i$ (개별주식의 수익률) |\n",
    "| 회귀계수 | $b$ | $\\beta_i$ (개별주식의 베타) |베타) |"
   ]
  },
  {
   "cell_type": "markdown",
   "id": "6a585352-f935-4e2d-a84d-98aff493f3d6",
   "metadata": {},
   "source": [
    "> 무위험수익률: 국채 같은 위험이 거의 없는 자산에서 기대할 수 있는 수익률  \n",
    "> 시장위험 프리미엄: 전체 시장 수익률에서 무위험수익률을 뺀 값"
   ]
  },
  {
   "cell_type": "markdown",
   "id": "6ad4c6a0-932e-43e5-96c8-c903824b94a6",
   "metadata": {},
   "source": [
    "통계학에서 회귀계수는 $\\beta = \\frac{cov(x, y)}{\\sigma_x^2}$ 형태로 구할 수 있으며, $x$와 $y$에 각각 시장수익률과 개별주식의 수익률을 대입할 경우 개별주식의 베타는 $\\beta_i = p(i, m) \\times \\frac{\\sigma_i}{\\sigma_m}$ 형태로 구할 수 있다."
   ]
  },
  {
   "cell_type": "markdown",
   "id": "297d50c2-91fa-47ea-b491-f73f79359bd7",
   "metadata": {},
   "source": [
    ">$cov(x, y)$: 시장수익률과 개별주식의 수익률의 공분산  \n",
    "$\\sigma_x^2$: 시장수익률의 분산  \n",
    "$p(i, m)$: 시장수익률과 개별주식의 수익률 간 상관계수  \n",
    "$\\sigma_i$: 개별주식 수익률의 표준편차  \n",
    "$\\sigma_m$: 시장수익률의 표준편차"
   ]
  },
  {
   "cell_type": "markdown",
   "id": "c5777bc5-7cb0-4c2f-a0c1-96c1ff67f336",
   "metadata": {},
   "source": [
    "### 베타 계산하기"
   ]
  },
  {
   "cell_type": "markdown",
   "id": "02284022-bfe7-4786-ad05-f26c2ec5e6f2",
   "metadata": {},
   "source": [
    "베타를 구하는 방법을 알아보기 위해 주식시장에 대한 대응치로 KOSPI 지수를, 개별주식으로는 전통적 고베타주인 증권주를 이용한다."
   ]
  },
  {
   "cell_type": "markdown",
   "id": "2e6dd02b-f699-4c4a-95e7-0fad77fe6ea4",
   "metadata": {},
   "source": [
    "1. KOSPI 코드(^KS11)와 증권주인 키음증권의 티커(039490.KS)를 입력한다."
   ]
  },
  {
   "cell_type": "code",
   "execution_count": 1,
   "id": "815e5441-b472-426f-9252-29f83071b13c",
   "metadata": {},
   "outputs": [],
   "source": [
    "import yfinance as yf\n",
    "import pandas as pd\n",
    "\n",
    "tickers = ['^KS11', '039490.KS']"
   ]
  },
  {
   "cell_type": "markdown",
   "id": "9dce0bb2-b6c8-413b-a265-cd30b938ddb2",
   "metadata": {},
   "source": [
    "2. download() 함수를 이용하여 해당 티커들의 2016년부터 2021년까지 데이터를 다운로드 받는다."
   ]
  },
  {
   "cell_type": "code",
   "execution_count": 2,
   "id": "86ac364b-bab2-484c-8987-f677ce6aaa39",
   "metadata": {},
   "outputs": [
    {
     "name": "stdout",
     "output_type": "stream",
     "text": [
      "YF.download() has changed argument auto_adjust default to True\n"
     ]
    },
    {
     "name": "stderr",
     "output_type": "stream",
     "text": [
      "[*********************100%***********************]  1 of 1 completed\n",
      "[*********************100%***********************]  1 of 1 completed\n"
     ]
    }
   ],
   "source": [
    "all_data = {}\n",
    "for ticker in tickers:\n",
    "    all_data[ticker] = yf.download(ticker,\n",
    "                                  start='2016-01-01',\n",
    "                                  end='2021-12-31')"
   ]
  },
  {
   "cell_type": "markdown",
   "id": "d46993dc-0c0d-4a5c-ad4f-c8547bf275c6",
   "metadata": {},
   "source": [
    "3. 종가(Close)에 해당하는 열만 선택한 후, 데이터프레임 형태로 만들어 준다."
   ]
  },
  {
   "cell_type": "code",
   "execution_count": 3,
   "id": "9192839e-a3aa-4f0a-b150-98cc47174339",
   "metadata": {},
   "outputs": [],
   "source": [
    "prices = pd.DataFrame({\n",
    "    tic: data['Close'][tic] for tic, data in all_data.items()\n",
    "})"
   ]
  },
  {
   "cell_type": "markdown",
   "id": "f64bae94-3e08-4cae-887e-ebc48152ce88",
   "metadata": {},
   "source": [
    "4. pct_change() 함수를 통해 수익률을 계산한 후, NA 데이터는 삭제한다."
   ]
  },
  {
   "cell_type": "code",
   "execution_count": 4,
   "id": "81a45d94-7154-4d0d-9aab-4b79211953f4",
   "metadata": {},
   "outputs": [
    {
     "data": {
      "text/html": [
       "<div>\n",
       "<style scoped>\n",
       "    .dataframe tbody tr th:only-of-type {\n",
       "        vertical-align: middle;\n",
       "    }\n",
       "\n",
       "    .dataframe tbody tr th {\n",
       "        vertical-align: top;\n",
       "    }\n",
       "\n",
       "    .dataframe thead th {\n",
       "        text-align: right;\n",
       "    }\n",
       "</style>\n",
       "<table border=\"1\" class=\"dataframe\">\n",
       "  <thead>\n",
       "    <tr style=\"text-align: right;\">\n",
       "      <th></th>\n",
       "      <th>^KS11</th>\n",
       "      <th>039490.KS</th>\n",
       "    </tr>\n",
       "    <tr>\n",
       "      <th>Date</th>\n",
       "      <th></th>\n",
       "      <th></th>\n",
       "    </tr>\n",
       "  </thead>\n",
       "  <tbody>\n",
       "    <tr>\n",
       "      <th>2016-01-05</th>\n",
       "      <td>0.006134</td>\n",
       "      <td>0.028428</td>\n",
       "    </tr>\n",
       "    <tr>\n",
       "      <th>2016-01-06</th>\n",
       "      <td>-0.002642</td>\n",
       "      <td>-0.006504</td>\n",
       "    </tr>\n",
       "    <tr>\n",
       "      <th>2016-01-07</th>\n",
       "      <td>-0.010959</td>\n",
       "      <td>-0.026187</td>\n",
       "    </tr>\n",
       "    <tr>\n",
       "      <th>2016-01-08</th>\n",
       "      <td>0.006979</td>\n",
       "      <td>0.003361</td>\n",
       "    </tr>\n",
       "    <tr>\n",
       "      <th>2016-01-11</th>\n",
       "      <td>-0.011879</td>\n",
       "      <td>-0.028476</td>\n",
       "    </tr>\n",
       "    <tr>\n",
       "      <th>...</th>\n",
       "      <td>...</td>\n",
       "      <td>...</td>\n",
       "    </tr>\n",
       "    <tr>\n",
       "      <th>2021-12-24</th>\n",
       "      <td>0.004756</td>\n",
       "      <td>0.000000</td>\n",
       "    </tr>\n",
       "    <tr>\n",
       "      <th>2021-12-27</th>\n",
       "      <td>-0.004276</td>\n",
       "      <td>-0.009132</td>\n",
       "    </tr>\n",
       "    <tr>\n",
       "      <th>2021-12-28</th>\n",
       "      <td>0.006898</td>\n",
       "      <td>0.004608</td>\n",
       "    </tr>\n",
       "    <tr>\n",
       "      <th>2021-12-29</th>\n",
       "      <td>-0.008923</td>\n",
       "      <td>0.023697</td>\n",
       "    </tr>\n",
       "    <tr>\n",
       "      <th>2021-12-30</th>\n",
       "      <td>-0.005225</td>\n",
       "      <td>-0.009259</td>\n",
       "    </tr>\n",
       "  </tbody>\n",
       "</table>\n",
       "<p>1472 rows × 2 columns</p>\n",
       "</div>"
      ],
      "text/plain": [
       "               ^KS11  039490.KS\n",
       "Date                           \n",
       "2016-01-05  0.006134   0.028428\n",
       "2016-01-06 -0.002642  -0.006504\n",
       "2016-01-07 -0.010959  -0.026187\n",
       "2016-01-08  0.006979   0.003361\n",
       "2016-01-11 -0.011879  -0.028476\n",
       "...              ...        ...\n",
       "2021-12-24  0.004756   0.000000\n",
       "2021-12-27 -0.004276  -0.009132\n",
       "2021-12-28  0.006898   0.004608\n",
       "2021-12-29 -0.008923   0.023697\n",
       "2021-12-30 -0.005225  -0.009259\n",
       "\n",
       "[1472 rows x 2 columns]"
      ]
     },
     "execution_count": 4,
     "metadata": {},
     "output_type": "execute_result"
    }
   ],
   "source": [
    "ret = prices.pct_change().dropna()\n",
    "ret"
   ]
  },
  {
   "cell_type": "markdown",
   "id": "5521b2c0-e779-4d7e-90e7-d883b0f5aef4",
   "metadata": {},
   "source": [
    "증권주를 대상으로 베타를 구하기 위한 회귀분석을 실시한다. 자산가격결정모형의 수식인 $R_i = R_f + \\beta_i \\times [R_m - R_f]$ 에서 편의를 위해 무위험 수익률인 $R_f$를 0으로 가정하면, $R_i = \\beta_i \\times R_m$의 형태로 나타낼 수 있다. 이 중 $R_m$는 독립변수인 주식시장의 수익률을 의미하고, $R_i$는 종속변수인 개별 주식의 수익률을 의미한다."
   ]
  },
  {
   "cell_type": "markdown",
   "id": "351f5e74-bd26-479b-80b9-bab1fd876a6c",
   "metadata": {},
   "source": [
    "1. 알파를 계산하기 위해 intercept(절편)에 해당하는 열에 1을 입력한다."
   ]
  },
  {
   "cell_type": "code",
   "execution_count": 6,
   "id": "c0f5e73c-842b-4989-895f-134b48fd3cd2",
   "metadata": {},
   "outputs": [],
   "source": [
    "import statsmodels.api as sm\n",
    "\n",
    "ret['intercept'] = 1"
   ]
  },
  {
   "cell_type": "markdown",
   "id": "c8cd7dd9-a73c-4f90-8454-59bd5fb2d39d",
   "metadata": {},
   "source": [
    "2. 종속변수에는 증권주, 독립변수에는 KOSPI 지수 수익률 및 절편을 입력한다.\n",
    "3. statsmodels 패키지의 OLS() 함수를 통해 손쉽게 선형회구분석을 실시할 수 있으며, 회귀분석의 결과를 reg 변수에 저장한다."
   ]
  },
  {
   "cell_type": "code",
   "execution_count": 7,
   "id": "2a453337-65a5-4ab4-a971-4877b8067122",
   "metadata": {},
   "outputs": [],
   "source": [
    "reg = sm.OLS(ret[['039490.KS']], ret[['^KS11', 'intercept']]).fit()"
   ]
  },
  {
   "cell_type": "code",
   "execution_count": 8,
   "id": "f57f1ad8-bba4-4671-9a85-037db75f87af",
   "metadata": {},
   "outputs": [
    {
     "data": {
      "text/html": [
       "<table class=\"simpletable\">\n",
       "<caption>OLS Regression Results</caption>\n",
       "<tr>\n",
       "  <th>Dep. Variable:</th>        <td>039490.KS</td>    <th>  R-squared:         </th> <td>   0.366</td> \n",
       "</tr>\n",
       "<tr>\n",
       "  <th>Model:</th>                   <td>OLS</td>       <th>  Adj. R-squared:    </th> <td>   0.366</td> \n",
       "</tr>\n",
       "<tr>\n",
       "  <th>Method:</th>             <td>Least Squares</td>  <th>  F-statistic:       </th> <td>   849.4</td> \n",
       "</tr>\n",
       "<tr>\n",
       "  <th>Date:</th>             <td>Tue, 08 Apr 2025</td> <th>  Prob (F-statistic):</th> <td>9.05e-148</td>\n",
       "</tr>\n",
       "<tr>\n",
       "  <th>Time:</th>                 <td>15:39:53</td>     <th>  Log-Likelihood:    </th> <td>  3683.2</td> \n",
       "</tr>\n",
       "<tr>\n",
       "  <th>No. Observations:</th>      <td>  1472</td>      <th>  AIC:               </th> <td>  -7362.</td> \n",
       "</tr>\n",
       "<tr>\n",
       "  <th>Df Residuals:</th>          <td>  1470</td>      <th>  BIC:               </th> <td>  -7352.</td> \n",
       "</tr>\n",
       "<tr>\n",
       "  <th>Df Model:</th>              <td>     1</td>      <th>                     </th>     <td> </td>    \n",
       "</tr>\n",
       "<tr>\n",
       "  <th>Covariance Type:</th>      <td>nonrobust</td>    <th>                     </th>     <td> </td>    \n",
       "</tr>\n",
       "</table>\n",
       "<table class=\"simpletable\">\n",
       "<tr>\n",
       "      <td></td>         <th>coef</th>     <th>std err</th>      <th>t</th>      <th>P>|t|</th>  <th>[0.025</th>    <th>0.975]</th>  \n",
       "</tr>\n",
       "<tr>\n",
       "  <th>^KS11</th>     <td>    1.4321</td> <td>    0.049</td> <td>   29.145</td> <td> 0.000</td> <td>    1.336</td> <td>    1.528</td>\n",
       "</tr>\n",
       "<tr>\n",
       "  <th>intercept</th> <td>    0.0003</td> <td>    0.001</td> <td>    0.550</td> <td> 0.582</td> <td>   -0.001</td> <td>    0.001</td>\n",
       "</tr>\n",
       "</table>\n",
       "<table class=\"simpletable\">\n",
       "<tr>\n",
       "  <th>Omnibus:</th>       <td>221.231</td> <th>  Durbin-Watson:     </th> <td>   2.218</td> \n",
       "</tr>\n",
       "<tr>\n",
       "  <th>Prob(Omnibus):</th> <td> 0.000</td>  <th>  Jarque-Bera (JB):  </th> <td> 568.697</td> \n",
       "</tr>\n",
       "<tr>\n",
       "  <th>Skew:</th>          <td> 0.812</td>  <th>  Prob(JB):          </th> <td>3.23e-124</td>\n",
       "</tr>\n",
       "<tr>\n",
       "  <th>Kurtosis:</th>      <td> 5.576</td>  <th>  Cond. No.          </th> <td>    95.1</td> \n",
       "</tr>\n",
       "</table><br/><br/>Notes:<br/>[1] Standard Errors assume that the covariance matrix of the errors is correctly specified."
      ],
      "text/latex": [
       "\\begin{center}\n",
       "\\begin{tabular}{lclc}\n",
       "\\toprule\n",
       "\\textbf{Dep. Variable:}    &    039490.KS     & \\textbf{  R-squared:         } &     0.366   \\\\\n",
       "\\textbf{Model:}            &       OLS        & \\textbf{  Adj. R-squared:    } &     0.366   \\\\\n",
       "\\textbf{Method:}           &  Least Squares   & \\textbf{  F-statistic:       } &     849.4   \\\\\n",
       "\\textbf{Date:}             & Tue, 08 Apr 2025 & \\textbf{  Prob (F-statistic):} & 9.05e-148   \\\\\n",
       "\\textbf{Time:}             &     15:39:53     & \\textbf{  Log-Likelihood:    } &    3683.2   \\\\\n",
       "\\textbf{No. Observations:} &        1472      & \\textbf{  AIC:               } &    -7362.   \\\\\n",
       "\\textbf{Df Residuals:}     &        1470      & \\textbf{  BIC:               } &    -7352.   \\\\\n",
       "\\textbf{Df Model:}         &           1      & \\textbf{                     } &             \\\\\n",
       "\\textbf{Covariance Type:}  &    nonrobust     & \\textbf{                     } &             \\\\\n",
       "\\bottomrule\n",
       "\\end{tabular}\n",
       "\\begin{tabular}{lcccccc}\n",
       "                   & \\textbf{coef} & \\textbf{std err} & \\textbf{t} & \\textbf{P$> |$t$|$} & \\textbf{[0.025} & \\textbf{0.975]}  \\\\\n",
       "\\midrule\n",
       "\\textbf{^KS11}     &       1.4321  &        0.049     &    29.145  &         0.000        &        1.336    &        1.528     \\\\\n",
       "\\textbf{intercept} &       0.0003  &        0.001     &     0.550  &         0.582        &       -0.001    &        0.001     \\\\\n",
       "\\bottomrule\n",
       "\\end{tabular}\n",
       "\\begin{tabular}{lclc}\n",
       "\\textbf{Omnibus:}       & 221.231 & \\textbf{  Durbin-Watson:     } &     2.218  \\\\\n",
       "\\textbf{Prob(Omnibus):} &   0.000 & \\textbf{  Jarque-Bera (JB):  } &   568.697  \\\\\n",
       "\\textbf{Skew:}          &   0.812 & \\textbf{  Prob(JB):          } & 3.23e-124  \\\\\n",
       "\\textbf{Kurtosis:}      &   5.576 & \\textbf{  Cond. No.          } &      95.1  \\\\\n",
       "\\bottomrule\n",
       "\\end{tabular}\n",
       "%\\caption{OLS Regression Results}\n",
       "\\end{center}\n",
       "\n",
       "Notes: \\newline\n",
       " [1] Standard Errors assume that the covariance matrix of the errors is correctly specified."
      ],
      "text/plain": [
       "<class 'statsmodels.iolib.summary.Summary'>\n",
       "\"\"\"\n",
       "                            OLS Regression Results                            \n",
       "==============================================================================\n",
       "Dep. Variable:              039490.KS   R-squared:                       0.366\n",
       "Model:                            OLS   Adj. R-squared:                  0.366\n",
       "Method:                 Least Squares   F-statistic:                     849.4\n",
       "Date:                Tue, 08 Apr 2025   Prob (F-statistic):          9.05e-148\n",
       "Time:                        15:39:53   Log-Likelihood:                 3683.2\n",
       "No. Observations:                1472   AIC:                            -7362.\n",
       "Df Residuals:                    1470   BIC:                            -7352.\n",
       "Df Model:                           1                                         \n",
       "Covariance Type:            nonrobust                                         \n",
       "==============================================================================\n",
       "                 coef    std err          t      P>|t|      [0.025      0.975]\n",
       "------------------------------------------------------------------------------\n",
       "^KS11          1.4321      0.049     29.145      0.000       1.336       1.528\n",
       "intercept      0.0003      0.001      0.550      0.582      -0.001       0.001\n",
       "==============================================================================\n",
       "Omnibus:                      221.231   Durbin-Watson:                   2.218\n",
       "Prob(Omnibus):                  0.000   Jarque-Bera (JB):              568.697\n",
       "Skew:                           0.812   Prob(JB):                    3.23e-124\n",
       "Kurtosis:                       5.576   Cond. No.                         95.1\n",
       "==============================================================================\n",
       "\n",
       "Notes:\n",
       "[1] Standard Errors assume that the covariance matrix of the errors is correctly specified.\n",
       "\"\"\""
      ]
     },
     "execution_count": 8,
     "metadata": {},
     "output_type": "execute_result"
    }
   ],
   "source": [
    "reg.summary()"
   ]
  },
  {
   "cell_type": "code",
   "execution_count": 9,
   "id": "b3beda13-2ef7-49ad-96c3-ff6da721d3fd",
   "metadata": {},
   "outputs": [
    {
     "name": "stdout",
     "output_type": "stream",
     "text": [
      "^KS11        1.432088\n",
      "intercept    0.000285\n",
      "dtype: float64\n"
     ]
    }
   ],
   "source": [
    "print(reg.params)"
   ]
  },
  {
   "cell_type": "markdown",
   "id": "47b92bf4-782b-4fed-ba75-8ac9b9866720",
   "metadata": {},
   "source": [
    "summary() 메서드는 회구분석 결과의 요약 정보를 보여준다. 또한 reg.params을 통해 베타(^KS11) 및 알파(intercept)에 해당하는 값만 선택할 수도 있다."
   ]
  },
  {
   "cell_type": "markdown",
   "id": "a42d85a3-5de2-425e-826d-b8da1d8aa575",
   "metadata": {},
   "source": [
    "회귀분석의 결과 테이블 중 베타를 나타내는 부분은 coef 이다. 베타값이 약 1.43으로 높아 증권주의 특성인 고베타주임이 확인되며, t값 또한 약 29로써 유의성을 가르는 2 보다 크므로 결과가 유의하다고 볼 수 있다. 반면 알파(intercept)는 0.0002 수준이며 t값 역시 0.376으로 매우 낮아, 증권주의 수익률은 주식 시장에 대한 노출도인 베타를 제외하고 나면 초과 수익이 없다고 볼 수 있다."
   ]
  }
 ],
 "metadata": {
  "kernelspec": {
   "display_name": "Python 3 (ipykernel)",
   "language": "python",
   "name": "python3"
  },
  "language_info": {
   "codemirror_mode": {
    "name": "ipython",
    "version": 3
   },
   "file_extension": ".py",
   "mimetype": "text/x-python",
   "name": "python",
   "nbconvert_exporter": "python",
   "pygments_lexer": "ipython3",
   "version": "3.11.5"
  }
 },
 "nbformat": 4,
 "nbformat_minor": 5
}
